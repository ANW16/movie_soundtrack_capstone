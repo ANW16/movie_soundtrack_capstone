{
 "cells": [
  {
   "cell_type": "code",
   "execution_count": null,
   "id": "3270fab2",
   "metadata": {},
   "outputs": [],
   "source": [
    "import pandas as pd\n",
    "import requests\n",
    "import matplotlib.pyplot as plt\n",
    "import seaborn as sns\n",
    "import numpy as np\n",
    "import json\n",
    "import gzip\n",
    "from subprocess import check_output\n",
    "%matplotlib inline"
   ]
  },
  {
   "cell_type": "code",
   "execution_count": null,
   "id": "fea11f5c",
   "metadata": {},
   "outputs": [],
   "source": [
    "with open('../keys/tmdb_key.json') as fi:\n",
    "    credentials = json.load(fi)"
   ]
  },
  {
   "cell_type": "code",
   "execution_count": null,
   "id": "538d234a",
   "metadata": {},
   "outputs": [],
   "source": [
    "api_key = credentials['api_key']"
   ]
  },
  {
   "cell_type": "code",
   "execution_count": null,
   "id": "29133395",
   "metadata": {},
   "outputs": [],
   "source": [
    "tmdb_df = pd.read_json('../data/tmdb_movie_ids_12_16_2022.json.gz', lines=True, compression='gzip')\n",
    "tmdb_df.info()"
   ]
  },
  {
   "cell_type": "code",
   "execution_count": null,
   "id": "0131a04a",
   "metadata": {},
   "outputs": [],
   "source": [
    "display(tmdb_df)"
   ]
  },
  {
   "cell_type": "code",
   "execution_count": null,
   "id": "f8be3ef7",
   "metadata": {},
   "outputs": [],
   "source": [
    "movie_id = tmdb_df['id'].tolist()"
   ]
  },
  {
   "cell_type": "code",
   "execution_count": null,
   "id": "45f9b002",
   "metadata": {},
   "outputs": [],
   "source": [
    "def get_review(api_key, movie_id):\n",
    "    url = f'https://api.themoviedb.org/3/movie/{movie_id}/reviews?api_key={api_key}&language=en-US&page=1'\n",
    "    \n",
    "    res = requests.get(url)\n",
    "    \n",
    "    review_object = res.json()\n",
    "    \n",
    "    return review_object"
   ]
  },
  {
   "cell_type": "code",
   "execution_count": null,
   "id": "38935aa6",
   "metadata": {},
   "outputs": [],
   "source": []
  }
 ],
 "metadata": {
  "kernelspec": {
   "display_name": "Python 3 (ipykernel)",
   "language": "python",
   "name": "python3"
  },
  "language_info": {
   "codemirror_mode": {
    "name": "ipython",
    "version": 3
   },
   "file_extension": ".py",
   "mimetype": "text/x-python",
   "name": "python",
   "nbconvert_exporter": "python",
   "pygments_lexer": "ipython3",
   "version": "3.9.12"
  }
 },
 "nbformat": 4,
 "nbformat_minor": 5
}
