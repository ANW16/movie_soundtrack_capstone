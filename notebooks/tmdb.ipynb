{
 "cells": [
  {
   "cell_type": "code",
   "execution_count": null,
   "id": "3270fab2",
   "metadata": {},
   "outputs": [],
   "source": [
    "import pandas as pd\n",
    "import requests\n",
    "import matplotlib.pyplot as plt\n",
    "import seaborn as sns\n",
    "import numpy as np\n",
    "import json\n",
    "import gzip\n",
    "from subprocess import check_output\n",
    "%matplotlib inline"
   ]
  },
  {
   "cell_type": "code",
   "execution_count": null,
   "id": "fea11f5c",
   "metadata": {},
   "outputs": [],
   "source": [
    "with open('../keys/tmdb_key.json') as fi:\n",
    "    credentials = json.load(fi)"
   ]
  },
  {
   "cell_type": "code",
   "execution_count": null,
   "id": "538d234a",
   "metadata": {},
   "outputs": [],
   "source": [
    "api_key = credentials['api_key']"
   ]
  },
  {
   "cell_type": "code",
   "execution_count": null,
   "id": "29133395",
   "metadata": {},
   "outputs": [],
   "source": [
    "tmdb_df = pd.read_json('../data/tmdb_movie_ids_12_16_2022.json.gz', lines=True, compression='gzip')\n",
    "tmdb_df.info()"
   ]
  },
  {
   "cell_type": "code",
   "execution_count": null,
   "id": "0131a04a",
   "metadata": {},
   "outputs": [],
   "source": [
    "display(tmdb_df)"
   ]
  },
  {
   "cell_type": "code",
   "execution_count": null,
   "id": "20f22363",
   "metadata": {},
   "outputs": [],
   "source": [
    "title_pop = tmdb_df[['id','original_title', 'popularity']]\n",
    "display(title_pop)"
   ]
  },
  {
   "cell_type": "code",
   "execution_count": null,
   "id": "23edddb7",
   "metadata": {},
   "outputs": [],
   "source": [
    "tmdb_ids = pd.read_excel(r'../data/tmdb_pulled_ids.xlsx', sheet_name='pulled_ids')\n",
    "tmdb_ids = tmdb_ids.drop_duplicates(subset=['original_title'], keep=False)\n",
    "print(tmdb_ids)"
   ]
  },
  {
   "cell_type": "code",
   "execution_count": null,
   "id": "f8be3ef7",
   "metadata": {},
   "outputs": [],
   "source": [
    "movie_id = tmdb_ids['id'].tolist()"
   ]
  },
  {
   "cell_type": "code",
   "execution_count": null,
   "id": "45f9b002",
   "metadata": {},
   "outputs": [],
   "source": [
    "def get_details(api_key, movie_id):\n",
    "    url = f'https://api.themoviedb.org/3/movie/{movie_id}?api_key={api_key}&language=en-US'\n",
    "    \n",
    "    res = requests.get(url)\n",
    "    \n",
    "    details_object = res.json()\n",
    "    \n",
    "    return details_object"
   ]
  },
  {
   "cell_type": "code",
   "execution_count": null,
   "id": "d1c90768",
   "metadata": {},
   "outputs": [],
   "source": [
    "tmdb_details_info = []\n",
    "for x in movie_id:\n",
    "    tmdb_details_info.append(get_details(api_key, x))"
   ]
  },
  {
   "cell_type": "code",
   "execution_count": null,
   "id": "04626635",
   "metadata": {},
   "outputs": [],
   "source": [
    "i = 0\n",
    "title = []\n",
    "release_date = []\n",
    "popularity = []\n",
    "budget = []\n",
    "genres = []\n",
    "revenue = []\n",
    "production_company = []\n",
    "while i < len(tmdb_details_info):\n",
    "    popularity.append(tmdb_details_info[i]['popularity'])\n",
    "    release_date.append(tmdb_details_info[i]['release_date'])\n",
    "    title.append(tmdb_details_info[i]['original_title'])\n",
    "    budget.append(tmdb_details_info[i]['budget'])\n",
    "    try:\n",
    "        genres.append(tmdb_details_info[i]['genres'][0]['name'])\n",
    "    except IndexError:\n",
    "        genres.append('null')\n",
    "    try:\n",
    "        production_company.append(tmdb_details_info[i]['production_companies'][0]['name'])\n",
    "    except IndexError:\n",
    "        production_company.append('null')\n",
    "    revenue.append(tmdb_details_info[i]['revenue'])\n",
    "    i = i+1"
   ]
  },
  {
   "cell_type": "code",
   "execution_count": null,
   "id": "a0dec137",
   "metadata": {},
   "outputs": [],
   "source": [
    "tmdb_data = {'title':title, 'movie_popularity':popularity, 'movie_release_date':release_date, 'movie_budget':budget, 'movie_genre':genres, 'movie_revenue':revenue, 'movie_producers':production_company}\n",
    "tmdb_df = pd.DataFrame(tmdb_data)\n",
    "display(tmdb_df)"
   ]
  },
  {
   "cell_type": "code",
   "execution_count": null,
   "id": "ba70e8c4",
   "metadata": {},
   "outputs": [],
   "source": []
  }
 ],
 "metadata": {
  "kernelspec": {
   "display_name": "Python 3 (ipykernel)",
   "language": "python",
   "name": "python3"
  },
  "language_info": {
   "codemirror_mode": {
    "name": "ipython",
    "version": 3
   },
   "file_extension": ".py",
   "mimetype": "text/x-python",
   "name": "python",
   "nbconvert_exporter": "python",
   "pygments_lexer": "ipython3",
   "version": "3.9.12"
  }
 },
 "nbformat": 4,
 "nbformat_minor": 5
}
