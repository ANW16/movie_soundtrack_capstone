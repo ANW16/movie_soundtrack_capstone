{
 "cells": [
  {
   "cell_type": "code",
   "execution_count": null,
   "id": "471ac89f",
   "metadata": {},
   "outputs": [],
   "source": [
    "import pandas as pd\n",
    "import requests\n",
    "import matplotlib.pyplot as plt\n",
    "import seaborn as sns\n",
    "import numpy as np\n",
    "import json\n",
    "import gzip\n",
    "from subprocess import check_output\n",
    "%matplotlib inline"
   ]
  },
  {
   "cell_type": "code",
   "execution_count": null,
   "id": "764bb20f",
   "metadata": {},
   "outputs": [],
   "source": [
    "with open('../keys/tmdb_key.json') as fi:\n",
    "    credentials = json.load(fi)"
   ]
  },
  {
   "cell_type": "code",
   "execution_count": null,
   "id": "1f21e496",
   "metadata": {},
   "outputs": [],
   "source": [
    "api_key = credentials['api_key']"
   ]
  },
  {
   "cell_type": "code",
   "execution_count": null,
   "id": "8b54d54f",
   "metadata": {},
   "outputs": [],
   "source": [
    "with gzip.open('../data/tmdb_movie_ids_12_16_2022.json.gz','r') as fin:        \n",
    "    for line in fin:"
   ]
  },
  {
   "cell_type": "code",
   "execution_count": null,
   "id": "b3c0697d",
   "metadata": {},
   "outputs": [],
   "source": [
    "tmdb_df = pd.read_json('../data/tmdb_movie_ids_12_16_2022.json.gz', lines=True, compression='gzip')\n",
    "tmdb_df.info()"
   ]
  },
  {
   "cell_type": "code",
   "execution_count": null,
   "id": "dd793129",
   "metadata": {},
   "outputs": [],
   "source": [
    "display(tmdb_df)"
   ]
  },
  {
   "cell_type": "code",
   "execution_count": null,
   "id": "bf3f1b53",
   "metadata": {},
   "outputs": [],
   "source": []
  }
 ],
 "metadata": {
  "kernelspec": {
   "display_name": "Python 3 (ipykernel)",
   "language": "python",
   "name": "python3"
  },
  "language_info": {
   "codemirror_mode": {
    "name": "ipython",
    "version": 3
   },
   "file_extension": ".py",
   "mimetype": "text/x-python",
   "name": "python",
   "nbconvert_exporter": "python",
   "pygments_lexer": "ipython3",
   "version": "3.9.12"
  }
 },
 "nbformat": 4,
 "nbformat_minor": 5
}
