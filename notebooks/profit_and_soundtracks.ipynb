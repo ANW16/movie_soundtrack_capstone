{
 "cells": [
  {
   "cell_type": "code",
   "execution_count": null,
   "id": "2c281e0a",
   "metadata": {},
   "outputs": [],
   "source": [
    "import pandas as pd\n",
    "import requests\n",
    "import matplotlib.pyplot as plt\n",
    "import seaborn as sns\n",
    "import numpy as np\n",
    "from scipy.stats import pearsonr\n",
    "%matplotlib inline"
   ]
  },
  {
   "cell_type": "code",
   "execution_count": null,
   "id": "2ccff3d4",
   "metadata": {},
   "outputs": [],
   "source": [
    "spotify_df = pd.read_excel(r'../data/spotify_album_info.xlsx', sheet_name='Altered_dataset')\n",
    "tmdb_df = pd.read_excel(r'../data/tmdb_details_info.xlsx', sheet_name='Altered_dataset')"
   ]
  },
  {
   "cell_type": "code",
   "execution_count": null,
   "id": "b78db491",
   "metadata": {},
   "outputs": [],
   "source": [
    "merged_df = pd.merge(tmdb_df, spotify_df, left_on='title', right_on='album_name', how='inner')\n",
    "merged_df = merged_df.drop(columns='album_name')"
   ]
  },
  {
   "cell_type": "code",
   "execution_count": null,
   "id": "61ab6cf2",
   "metadata": {},
   "outputs": [],
   "source": [
    "ratios = merged_df.groupby('title').apply(lambda x: x['spotify_popularity_rating'].sum() /\n",
    "                                   x['movie_popularity'].sum().astype(float)).to_dict()\n",
    "\n",
    "merged_df['ratio'] = merged_df['title'].map(ratios)\n",
    "merged_df['ratio'] = round(merged_df['ratio'], 1)\n",
    "display(merged_df)"
   ]
  },
  {
   "cell_type": "code",
   "execution_count": null,
   "id": "7b3f5efd",
   "metadata": {},
   "outputs": [],
   "source": [
    "x = merged_df['spotify_popularity_rating']\n",
    "y = merged_df['movie_profit']\n",
    "\n",
    "coefficients = np.polyfit(x, y, 1)\n",
    "polynomial = np.poly1d(coefficients)\n",
    "y_pred = polynomial(x)\n",
    "plt.scatter(x, y)\n",
    "plt.plot(x, y_pred, color='red')\n",
    "plt.xlabel('popularity Score')\n",
    "plt.ylabel('Profit (Millions)')\n",
    "plt.title('Profit vs. Popularity Score')"
   ]
  },
  {
   "cell_type": "code",
   "execution_count": null,
   "id": "8e0e0b2b",
   "metadata": {},
   "outputs": [],
   "source": []
  }
 ],
 "metadata": {
  "kernelspec": {
   "display_name": "Python 3 (ipykernel)",
   "language": "python",
   "name": "python3"
  },
  "language_info": {
   "codemirror_mode": {
    "name": "ipython",
    "version": 3
   },
   "file_extension": ".py",
   "mimetype": "text/x-python",
   "name": "python",
   "nbconvert_exporter": "python",
   "pygments_lexer": "ipython3",
   "version": "3.9.12"
  }
 },
 "nbformat": 4,
 "nbformat_minor": 5
}
