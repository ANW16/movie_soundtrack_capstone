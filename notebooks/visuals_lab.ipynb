{
 "cells": [
  {
   "cell_type": "code",
   "execution_count": null,
   "id": "945a6970",
   "metadata": {},
   "outputs": [],
   "source": [
    "import pandas as pd\n",
    "import requests\n",
    "import matplotlib.pyplot as plt\n",
    "import seaborn as sns\n",
    "import numpy as np\n",
    "%matplotlib inline"
   ]
  },
  {
   "cell_type": "code",
   "execution_count": null,
   "id": "bd5cff01",
   "metadata": {},
   "outputs": [],
   "source": [
    "spotify_df = pd.read_excel(r'../data/spotify_album_info.xlsx', sheet_name='Altered_dataset')\n",
    "print(spotify_df)"
   ]
  },
  {
   "cell_type": "code",
   "execution_count": null,
   "id": "ca7d3761",
   "metadata": {},
   "outputs": [],
   "source": [
    "tmdb_df = pd.read_excel(r'../data/title_pop_avg.xlsx', sheet_name='Altered_dataset')\n",
    "print(tmdb_df)"
   ]
  },
  {
   "cell_type": "code",
   "execution_count": null,
   "id": "3859fbcf",
   "metadata": {},
   "outputs": [],
   "source": [
    "merged_df = pd.merge(tmdb_df, spotify_df, left_on='original_title', right_on='album_name', how='inner')\n",
    "display(merged_df)"
   ]
  },
  {
   "cell_type": "code",
   "execution_count": null,
   "id": "6ad13ba2",
   "metadata": {},
   "outputs": [],
   "source": [
    "merged_df = merged_df.drop(columns='album_name')\n",
    "display(merged_df)"
   ]
  },
  {
   "cell_type": "code",
   "execution_count": null,
   "id": "c6559d91",
   "metadata": {},
   "outputs": [],
   "source": [
    "cleaned_df = merged_df.groupby(['original_title'], as_index=False).mean()\n",
    "display(cleaned_df)"
   ]
  },
  {
   "cell_type": "code",
   "execution_count": null,
   "id": "b66f9e1b",
   "metadata": {},
   "outputs": [],
   "source": [
    "cleaned_df['popularity'] = round(cleaned_df['popularity'])\n",
    "display(cleaned_df)"
   ]
  },
  {
   "cell_type": "code",
   "execution_count": null,
   "id": "7340dcbc",
   "metadata": {},
   "outputs": [],
   "source": [
    "cleaned_df['spotify_popularity_rating'].mean()/cleaned_df['popularity'].mean()"
   ]
  },
  {
   "cell_type": "code",
   "execution_count": null,
   "id": "95a0df93",
   "metadata": {},
   "outputs": [],
   "source": [
    "ratios = cleaned_df.groupby('original_title').apply(lambda x: x['spotify_popularity_rating'].sum() /\n",
    "                                   x['popularity'].sum().astype(float)).to_dict()\n",
    "\n",
    "cleaned_df['ratio'] = cleaned_df['original_title'].map(ratios)\n",
    "cleaned_df['ratio'] = round(cleaned_df['ratio'], 1)\n",
    "display(cleaned_df)"
   ]
  },
  {
   "cell_type": "code",
   "execution_count": null,
   "id": "86128f16",
   "metadata": {},
   "outputs": [],
   "source": [
    "tmdb_ids = pd.read_excel(r'../data/tmdb_info.xlsx', sheet_name='Altered_dataset')\n",
    "print(tmdb_ids)"
   ]
  },
  {
   "cell_type": "code",
   "execution_count": null,
   "id": "40da4c2d",
   "metadata": {},
   "outputs": [],
   "source": [
    "tmdb_ids = tmdb_ids[['id','original_title']]\n",
    "display(tmdb_ids)"
   ]
  },
  {
   "cell_type": "code",
   "execution_count": null,
   "id": "0aecdd96",
   "metadata": {},
   "outputs": [],
   "source": [
    "tmdb_pulled_movies = cleaned_df[['original_title']]\n",
    "display(tmdb_pulled_movies)"
   ]
  },
  {
   "cell_type": "code",
   "execution_count": null,
   "id": "b6cfe164",
   "metadata": {},
   "outputs": [],
   "source": [
    "tmdb_pulled_ids = pd.merge(tmdb_ids, tmdb_pulled_movies, left_on='original_title', right_on='original_title', how='inner')\n",
    "display(tmdb_pulled_ids)"
   ]
  },
  {
   "cell_type": "code",
   "execution_count": null,
   "id": "a6493534",
   "metadata": {},
   "outputs": [],
   "source": []
  }
 ],
 "metadata": {
  "kernelspec": {
   "display_name": "Python 3 (ipykernel)",
   "language": "python",
   "name": "python3"
  },
  "language_info": {
   "codemirror_mode": {
    "name": "ipython",
    "version": 3
   },
   "file_extension": ".py",
   "mimetype": "text/x-python",
   "name": "python",
   "nbconvert_exporter": "python",
   "pygments_lexer": "ipython3",
   "version": "3.9.12"
  }
 },
 "nbformat": 4,
 "nbformat_minor": 5
}
