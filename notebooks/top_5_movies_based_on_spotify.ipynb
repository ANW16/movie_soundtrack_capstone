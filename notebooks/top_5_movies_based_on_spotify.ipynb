{
 "cells": [
  {
   "cell_type": "code",
   "execution_count": null,
   "id": "3881049b",
   "metadata": {},
   "outputs": [],
   "source": [
    "import pandas as pd\n",
    "import requests\n",
    "import matplotlib.pyplot as plt\n",
    "import seaborn as sns\n",
    "import numpy as np\n",
    "from scipy.stats import pearsonr\n",
    "%matplotlib inline"
   ]
  },
  {
   "cell_type": "code",
   "execution_count": null,
   "id": "f9284da7",
   "metadata": {},
   "outputs": [],
   "source": [
    "spotify_df = pd.read_excel(r'../data/spotify_album_info.xlsx', sheet_name='Altered_dataset')\n",
    "tmdb_df = pd.read_excel(r'../data/tmdb_details_info.xlsx', sheet_name='Altered_dataset')"
   ]
  },
  {
   "cell_type": "code",
   "execution_count": null,
   "id": "5235cc96",
   "metadata": {},
   "outputs": [],
   "source": [
    "merged_df = pd.merge(tmdb_df, spotify_df, left_on='title', right_on='album_name', how='inner')\n",
    "merged_df = merged_df.drop(columns='album_name')"
   ]
  },
  {
   "cell_type": "code",
   "execution_count": null,
   "id": "4dc2a8e2",
   "metadata": {},
   "outputs": [],
   "source": [
    "def dollars_to_str(dollars):\n",
    "    return \"${:,.2f}\".format(dollars)\n",
    "\n",
    "merged_df['movie_budget'] = merged_df['movie_budget'].apply(dollars_to_str)\n",
    "merged_df['movie_revenue'] = merged_df['movie_revenue'].apply(dollars_to_str)\n",
    "merged_df['movie_profit'] = merged_df['movie_profit'].apply(dollars_to_str)\n",
    "merged_df['movie_popularity'] = round(merged_df['movie_popularity'])\n",
    "display(merged_df)"
   ]
  },
  {
   "cell_type": "code",
   "execution_count": null,
   "id": "60ae3029",
   "metadata": {},
   "outputs": [],
   "source": [
    "ratios = merged_df.groupby('title').apply(lambda x: x['spotify_popularity_rating'].sum() /\n",
    "                                   x['movie_popularity'].sum().astype(float)).to_dict()\n",
    "\n",
    "merged_df['ratio'] = merged_df['title'].map(ratios)\n",
    "merged_df['ratio'] = round(merged_df['ratio'], 1)\n",
    "display(merged_df)"
   ]
  },
  {
   "cell_type": "code",
   "execution_count": null,
   "id": "215642ff",
   "metadata": {},
   "outputs": [],
   "source": [
    "movie_popularity = merged_df.groupby('title')['spotify_popularity_rating'].mean()\n",
    "\n",
    "movie_popularity = movie_popularity.sort_values(ascending=False)\n",
    "\n",
    "top_5_movies = movie_popularity.head(5)\n",
    "\n",
    "movie_names = list(top_5_movies.index)\n",
    "popularity_values = list(top_5_movies.values)\n",
    "\n",
    "plt.figure(figsize=(15, 6))\n",
    "\n",
    "plt.bar(movie_names, popularity_values)\n",
    "\n",
    "plt.xlabel('Movie')\n",
    "plt.xticks(rotation=0)\n",
    "plt.ylabel('Soundtrack Popularity')\n",
    "plt.title('Top 5 Movies Based on Soundtrack Popularity')"
   ]
  },
  {
   "cell_type": "code",
   "execution_count": null,
   "id": "3c6e578e",
   "metadata": {},
   "outputs": [],
   "source": []
  }
 ],
 "metadata": {
  "kernelspec": {
   "display_name": "Python 3 (ipykernel)",
   "language": "python",
   "name": "python3"
  },
  "language_info": {
   "codemirror_mode": {
    "name": "ipython",
    "version": 3
   },
   "file_extension": ".py",
   "mimetype": "text/x-python",
   "name": "python",
   "nbconvert_exporter": "python",
   "pygments_lexer": "ipython3",
   "version": "3.9.12"
  }
 },
 "nbformat": 4,
 "nbformat_minor": 5
}
