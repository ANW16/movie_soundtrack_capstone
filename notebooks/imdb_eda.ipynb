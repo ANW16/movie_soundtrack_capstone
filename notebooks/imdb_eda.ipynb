{
 "cells": [
  {
   "cell_type": "code",
   "execution_count": null,
   "id": "37637911",
   "metadata": {},
   "outputs": [],
   "source": [
    "import pandas as pd\n",
    "import requests\n",
    "import matplotlib.pyplot as plt\n",
    "import seaborn as sns\n",
    "import numpy as np\n",
    "import json\n",
    "%matplotlib inline"
   ]
  },
  {
   "cell_type": "markdown",
   "id": "80c00a57",
   "metadata": {},
   "source": [
    "### Pulling personal API key recieved by RapidApi.com \n",
    "#### Link : https://rapidapi.com/apidojo/api/imdb8/"
   ]
  },
  {
   "cell_type": "code",
   "execution_count": null,
   "id": "ae9c302b",
   "metadata": {},
   "outputs": [],
   "source": [
    "with open('../keys/keys.json') as fi:\n",
    "    credentials = json.load(fi)"
   ]
  },
  {
   "cell_type": "code",
   "execution_count": null,
   "id": "bfdea181",
   "metadata": {},
   "outputs": [],
   "source": [
    "api_key = credentials['api_key']"
   ]
  },
  {
   "cell_type": "markdown",
   "id": "8d6bef9c",
   "metadata": {},
   "source": [
    "### Top Rated Movies:"
   ]
  },
  {
   "cell_type": "code",
   "execution_count": null,
   "id": "171fe14f",
   "metadata": {},
   "outputs": [],
   "source": [
    "url = \"https://imdb8.p.rapidapi.com/title/get-top-rated-movies\""
   ]
  },
  {
   "cell_type": "code",
   "execution_count": null,
   "id": "1d9d5e5e",
   "metadata": {},
   "outputs": [],
   "source": [
    "headers = {\n",
    "    \"X-RapidAPI-Key\": api_key,\n",
    "    \"X-RapidAPI-Host\": \"imdb8.p.rapidapi.com\"\n",
    "}"
   ]
  },
  {
   "cell_type": "code",
   "execution_count": null,
   "id": "126c0741",
   "metadata": {},
   "outputs": [],
   "source": [
    "response = requests.request(\"GET\", url, headers=headers)\n",
    "\n",
    "print(response.text)"
   ]
  },
  {
   "cell_type": "code",
   "execution_count": null,
   "id": "8781b272",
   "metadata": {},
   "outputs": [],
   "source": [
    "top_250_movies = pd.DataFrame(response.json())\n",
    "display(top_250_movies)"
   ]
  },
  {
   "cell_type": "code",
   "execution_count": null,
   "id": "7e7f1acd",
   "metadata": {},
   "outputs": [],
   "source": [
    "top_250_movies_clean = top_250_movies.replace(to_replace ='/title/', value = '', regex = True)\n",
    "top_250_movies_clean = top_250_movies_clean.replace(to_replace ='/', value = '', regex = True)\n",
    "display(top_250_movies_clean)"
   ]
  },
  {
   "cell_type": "markdown",
   "id": "e473584b",
   "metadata": {},
   "source": [
    "### Soundtrack for Top 250 Movies:"
   ]
  },
  {
   "cell_type": "code",
   "execution_count": null,
   "id": "8f45c865",
   "metadata": {},
   "outputs": [],
   "source": [
    "top_movie_ids = top_250_movies_clean['id'].tolist()\n",
    "top_movie_ids"
   ]
  },
  {
   "cell_type": "code",
   "execution_count": null,
   "id": "8ec63a52",
   "metadata": {},
   "outputs": [],
   "source": [
    "url = \"https://imdb8.p.rapidapi.com/title/get-sound-tracks\""
   ]
  },
  {
   "cell_type": "code",
   "execution_count": null,
   "id": "3fbeacca",
   "metadata": {},
   "outputs": [],
   "source": [
    "headers = {\n",
    "    \"X-RapidAPI-Key\": api_key,\n",
    "    \"X-RapidAPI-Host\": \"imdb8.p.rapidapi.com\"\n",
    "}"
   ]
  },
  {
   "cell_type": "code",
   "execution_count": null,
   "id": "a1e79297",
   "metadata": {},
   "outputs": [],
   "source": [
    "for x in range(len(top_movie_ids)):\n",
    "    params = {\"tconst\":top_movie_ids[x]}"
   ]
  },
  {
   "cell_type": "code",
   "execution_count": null,
   "id": "fa08cc7e",
   "metadata": {},
   "outputs": [],
   "source": [
    "response = requests.request(\"GET\", url, headers=headers, params=params)"
   ]
  },
  {
   "cell_type": "code",
   "execution_count": null,
   "id": "46c7b071",
   "metadata": {},
   "outputs": [],
   "source": [
    "res = response.json()"
   ]
  },
  {
   "cell_type": "code",
   "execution_count": null,
   "id": "70b970bc",
   "metadata": {},
   "outputs": [],
   "source": [
    "res.keys()"
   ]
  },
  {
   "cell_type": "code",
   "execution_count": null,
   "id": "ea6cdccc",
   "metadata": {},
   "outputs": [],
   "source": [
    "pd.DataFrame(res['soundtracks'])"
   ]
  },
  {
   "cell_type": "code",
   "execution_count": null,
   "id": "168a4096",
   "metadata": {},
   "outputs": [],
   "source": []
  }
 ],
 "metadata": {
  "kernelspec": {
   "display_name": "Python 3 (ipykernel)",
   "language": "python",
   "name": "python3"
  },
  "language_info": {
   "codemirror_mode": {
    "name": "ipython",
    "version": 3
   },
   "file_extension": ".py",
   "mimetype": "text/x-python",
   "name": "python",
   "nbconvert_exporter": "python",
   "pygments_lexer": "ipython3",
   "version": "3.9.12"
  }
 },
 "nbformat": 4,
 "nbformat_minor": 5
}
