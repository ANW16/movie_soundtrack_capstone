{
 "cells": [
  {
   "cell_type": "code",
   "execution_count": null,
   "id": "aeed1347",
   "metadata": {},
   "outputs": [],
   "source": [
    "import pandas as pd\n",
    "import requests\n",
    "import matplotlib.pyplot as plt\n",
    "import seaborn as sns\n",
    "import numpy as np\n",
    "%matplotlib inline"
   ]
  },
  {
   "cell_type": "code",
   "execution_count": null,
   "id": "6f2ef921",
   "metadata": {},
   "outputs": [],
   "source": [
    "spotify_df = pd.read_excel(r'../data/spotify_album_info.xlsx', sheet_name='Altered_dataset')\n",
    "print(spotify_df)"
   ]
  },
  {
   "cell_type": "code",
   "execution_count": null,
   "id": "6f6c7bbf",
   "metadata": {},
   "outputs": [],
   "source": [
    "tmdb_df = pd.read_excel(r'../data/tmdb_details_info.xlsx', sheet_name='Altered_dataset')\n",
    "print(tmdb_df)"
   ]
  },
  {
   "cell_type": "code",
   "execution_count": null,
   "id": "4120f5e0",
   "metadata": {},
   "outputs": [],
   "source": [
    "merged_df = pd.merge(tmdb_df, spotify_df, left_on='title', right_on='album_name', how='inner')\n",
    "display(merged_df)"
   ]
  },
  {
   "cell_type": "code",
   "execution_count": null,
   "id": "6218e857",
   "metadata": {},
   "outputs": [],
   "source": [
    "merged_df = merged_df.drop(columns='album_name')\n",
    "display(merged_df)"
   ]
  },
  {
   "cell_type": "code",
   "execution_count": null,
   "id": "e8787314",
   "metadata": {},
   "outputs": [],
   "source": [
    "def dollars_to_str(dollars):\n",
    "    return \"${:,.2f}\".format(dollars)\n",
    "\n",
    "merged_df['movie_budget'] = merged_df['movie_budget'].apply(dollars_to_str)\n",
    "merged_df['movie_revenue'] = merged_df['movie_revenue'].apply(dollars_to_str)\n",
    "merged_df['movie_profit'] = merged_df['movie_profit'].apply(dollars_to_str)\n",
    "merged_df['movie_popularity'] = round(merged_df['movie_popularity'])\n",
    "display(merged_df)"
   ]
  },
  {
   "cell_type": "code",
   "execution_count": null,
   "id": "b41d0656",
   "metadata": {},
   "outputs": [],
   "source": [
    "ratios = merged_df.groupby('title').apply(lambda x: x['spotify_popularity_rating'].sum() /\n",
    "                                   x['movie_popularity'].sum().astype(float)).to_dict()\n",
    "\n",
    "merged_df['ratio'] = merged_df['title'].map(ratios)\n",
    "merged_df['ratio'] = round(merged_df['ratio'], 1)\n",
    "display(merged_df)"
   ]
  },
  {
   "cell_type": "code",
   "execution_count": null,
   "id": "7c0af708",
   "metadata": {},
   "outputs": [],
   "source": []
  }
 ],
 "metadata": {
  "kernelspec": {
   "display_name": "Python 3 (ipykernel)",
   "language": "python",
   "name": "python3"
  },
  "language_info": {
   "codemirror_mode": {
    "name": "ipython",
    "version": 3
   },
   "file_extension": ".py",
   "mimetype": "text/x-python",
   "name": "python",
   "nbconvert_exporter": "python",
   "pygments_lexer": "ipython3",
   "version": "3.9.12"
  }
 },
 "nbformat": 4,
 "nbformat_minor": 5
}
