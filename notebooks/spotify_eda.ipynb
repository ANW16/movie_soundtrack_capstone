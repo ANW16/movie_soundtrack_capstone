{
 "cells": [
  {
   "cell_type": "code",
   "execution_count": null,
   "id": "3d75db46",
   "metadata": {},
   "outputs": [],
   "source": [
    "import pandas as pd\n",
    "import requests\n",
    "import matplotlib.pyplot as plt\n",
    "import seaborn as sns\n",
    "import numpy as np\n",
    "import json\n",
    "import base64\n",
    "from bs4 import BeautifulSoup as bs\n",
    "! pip3 install selenium\n",
    "from selenium import webdriver\n",
    "from selenium.webdriver.common.by import By\n",
    "from selenium.webdriver.common.keys import Keys\n",
    "from selenium.webdriver import ActionChains\n",
    "from selenium.webdriver.chrome.service import Service\n",
    "from selenium.webdriver.chrome.options import Options\n",
    "import time\n",
    "import tkinter as tk\n",
    "%matplotlib inline"
   ]
  },
  {
   "cell_type": "markdown",
   "id": "173b43a2",
   "metadata": {},
   "source": [
    "### API Authorization:"
   ]
  },
  {
   "cell_type": "code",
   "execution_count": null,
   "id": "402ec101",
   "metadata": {},
   "outputs": [],
   "source": [
    "authurl = 'https://accounts.spotify.com/api/token'\n",
    "authheader = {}\n",
    "authdata = {}"
   ]
  },
  {
   "cell_type": "code",
   "execution_count": null,
   "id": "d1a772c9",
   "metadata": {},
   "outputs": [],
   "source": [
    "with open('../keys/client_id.json') as fi:\n",
    "    credentials = json.load(fi)"
   ]
  },
  {
   "cell_type": "code",
   "execution_count": null,
   "id": "b4e5eb9c",
   "metadata": {},
   "outputs": [],
   "source": [
    "client_id = credentials['client_id']"
   ]
  },
  {
   "cell_type": "code",
   "execution_count": null,
   "id": "c1ede5cd",
   "metadata": {},
   "outputs": [],
   "source": [
    "with open('../keys/client_secret_id.json') as fi:\n",
    "    secret_credentials = json.load(fi)"
   ]
  },
  {
   "cell_type": "code",
   "execution_count": null,
   "id": "1cb13f97",
   "metadata": {},
   "outputs": [],
   "source": [
    "client_secret_id = secret_credentials['client_secret_id']"
   ]
  },
  {
   "cell_type": "code",
   "execution_count": null,
   "id": "1e271cb8",
   "metadata": {},
   "outputs": [],
   "source": [
    "def getaccesstoken(client_id, client_sercret_id):\n",
    "    message = f'{client_id}:{client_secret_id}'\n",
    "    message_bytes = message.encode('ascii')\n",
    "    base64_bytes = base64.b64encode(message_bytes)\n",
    "    base64_message = base64_bytes.decode('ascii')\n",
    "    \n",
    "    authheader['Authorization'] = 'Basic ' + base64_message\n",
    "    authdata['grant_type'] = 'client_credentials'\n",
    "    \n",
    "    res = requests.post(authurl, headers = authheader, data = authdata)\n",
    "    \n",
    "    responseobject = res.json()\n",
    "    \n",
    "    access_token = responseobject['access_token']\n",
    "    \n",
    "    return access_token"
   ]
  },
  {
   "cell_type": "code",
   "execution_count": null,
   "id": "877e00a3",
   "metadata": {},
   "outputs": [],
   "source": [
    "token = getaccesstoken(client_id, client_secret_id)"
   ]
  },
  {
   "cell_type": "markdown",
   "id": "cc01bca3",
   "metadata": {},
   "source": [
    "### Scraping for album ids"
   ]
  },
  {
   "cell_type": "code",
   "execution_count": null,
   "id": "d8276586",
   "metadata": {},
   "outputs": [],
   "source": [
    "URL = 'https://open.spotify.com/search/Original%20Motion%20Picture%20Soundtrack/tracks'\n",
    "response = requests.get(URL)"
   ]
  },
  {
   "cell_type": "code",
   "execution_count": null,
   "id": "8c045ce5",
   "metadata": {},
   "outputs": [],
   "source": [
    "type(response)"
   ]
  },
  {
   "cell_type": "code",
   "execution_count": null,
   "id": "6d157f93",
   "metadata": {},
   "outputs": [],
   "source": [
    "soup = bs(response.text)"
   ]
  },
  {
   "cell_type": "code",
   "execution_count": null,
   "id": "a41b19e4",
   "metadata": {},
   "outputs": [],
   "source": [
    "response.status_code"
   ]
  },
  {
   "cell_type": "code",
   "execution_count": null,
   "id": "b9ed9166",
   "metadata": {},
   "outputs": [],
   "source": [
    "numbers_list = []\n",
    "track_images_list = []\n",
    "tracks_list = []\n",
    "artists_list = []\n",
    "artists_links_list = []\n",
    "albums_name = []\n",
    "albums_link = []\n",
    "lengths_list = []\n",
    "links_list = []"
   ]
  },
  {
   "cell_type": "code",
   "execution_count": null,
   "id": "a6c24b73",
   "metadata": {},
   "outputs": [],
   "source": [
    "with open('../keys/spotify_login.json') as fi:\n",
    "    spotify_login = json.load(fi)"
   ]
  },
  {
   "cell_type": "code",
   "execution_count": null,
   "id": "a93fd15b",
   "metadata": {},
   "outputs": [],
   "source": [
    "spotify_username = spotify_login['spotify_username']\n",
    "spotify_password = spotify_login['spotify_password']"
   ]
  },
  {
   "cell_type": "code",
   "execution_count": null,
   "id": "2bef7234",
   "metadata": {},
   "outputs": [],
   "source": [
    "email = spotify_username\n",
    "password = spotify_password\n",
    "\n",
    "\n",
    "class DriverOptions(object):\n",
    "\n",
    "    def __init__(self):\n",
    "\n",
    "        self.options = Options()\n",
    "        self.options.add_argument('--no-sandbox')\n",
    "        self.options.add_argument('--start-maximized')\n",
    "        self.options.add_argument('--log-level=3')\n",
    "        self.options.add_experimental_option('excludeSwitches', ['enable-logging'])\n",
    "        self.options.add_experimental_option(\"excludeSwitches\", [\"enable-automation\"])\n",
    "        prefs = {\"credentials_enable_service\": False,\n",
    "        \"profile.password_manager_enabled\": False}\n",
    "        self.options.add_experimental_option(\"prefs\", prefs)\n",
    "        self.options.add_argument(\"disable-infobars\")\n",
    "\n",
    "\n",
    "class WebDriver(DriverOptions):\n",
    "\n",
    "    def __init__(self, path=''):\n",
    "        DriverOptions.__init__(self)\n",
    "        self.driver_instance = self.get_driver()\n",
    "\n",
    "    def get_driver(self):\n",
    "        webdriver.DesiredCapabilities.CHROME['acceptSslCerts'] = True\n",
    "\n",
    "        path = 'chromedriver.exe'\n",
    "        s=Service(path)\n",
    "        driver = webdriver.Chrome(service=s, options=self.options)\n",
    "        driver.execute_script(\"Object.defineProperty(navigator, 'webdriver', {get: () => undefined})\")\n",
    "        driver.execute_cdp_cmd(\"Page.addScriptToEvaluateOnNewDocument\", {\n",
    "            \"source\":\n",
    "                \"const newProto = navigator.__proto__;\"\n",
    "                \"delete newProto.webdriver;\"\n",
    "                \"navigator.__proto__ = newProto;\"\n",
    "        })\n",
    "        return driver\n",
    "\n",
    "def main():\n",
    "   \n",
    "    songCountLimit = int(input(\"How many songs would you like to scrap?: \"))\n",
    "\n",
    "    driver= WebDriver()\n",
    "    driverinstance = driver.driver_instance\n",
    "    root = tk.Tk()\n",
    "    root.withdraw() \n",
    "    \n",
    "    driverinstance.get('https://accounts.spotify.com/en/login')\n",
    "    time.sleep(0.5)\n",
    "\n",
    "    user_name_entry = driverinstance.find_element(by=By.ID, value=\"login-username\")\n",
    "    password_entry = driverinstance.find_element(by=By.ID, value=\"login-password\")\n",
    "    login_btn = driverinstance.find_element(by=By.ID, value=\"login-button\")\n",
    "\n",
    "    user_name_entry.send_keys(email)\n",
    "    password_entry.send_keys(password)\n",
    "    login_btn.click()\n",
    "    time.sleep(8)\n",
    "\n",
    "    search_url = 'https://open.spotify.com/search/Original%20Motion%20Picture%20Soundtrack/tracks'\n",
    "    driverinstance.get(search_url)\n",
    "    time.sleep(10)\n",
    "\n",
    "    scroll_box = driverinstance.find_element(By.XPATH, value=\"/html/body/div[4]/div/div[2]/div[3]/div[1]/div[2]/div[2]/div\")\n",
    "    time.sleep(2)\n",
    "\n",
    "    songs_list = scroll_box.find_element(by=By.XPATH, value='/html/body/div[4]/div/div[2]/div[3]/div[1]/div[2]/div[2]/div/div/div[2]/main')\n",
    "    first_song = songs_list.find_element(by=By.CLASS_NAME, value='h4HgbO_Uu1JYg5UGANeQ')\n",
    "\n",
    "    ActionChains(driverinstance).click(first_song).perform()\n",
    "\n",
    "    scroll_bar = driverinstance.find_element(By.XPATH, '/html/body/div[4]/div/div[2]/div[3]/div[1]/div[2]/div[4]/div/div')\n",
    "    scroll_bar_location = scroll_bar.location['y']\n",
    "\n",
    "    songsCount = 0\n",
    "    print('\\tScraping in Progress...')\n",
    "    \n",
    "    while songsCount < songCountLimit:\n",
    "\n",
    "        active_elm = driverinstance.switch_to.active_element\n",
    "        grand_parent = active_elm.find_element(By.XPATH, \"../..\")\n",
    "        song = grand_parent.find_element(By.XPATH, \"./..\")\n",
    "\n",
    "        number = song.find_element(by=By.CLASS_NAME, value='VrRwdIZO0sRX1lsWxJBe').get_attribute('innerText')\n",
    "        track_image = song.find_element(by=By.CLASS_NAME, value='gvLrgQXBFVW6m9MscfFA').find_element(By.TAG_NAME, 'img').get_attribute('src')\n",
    "        track = song.find_element(by=By.CLASS_NAME, value='t_yrXoUO3qGsJS4Y6iXX').get_attribute('innerText')\n",
    "        artists = song.find_element(by=By.CLASS_NAME, value='rq2VQ5mb9SDAFWbBIUIn').find_elements(By.TAG_NAME, 'a')\n",
    "        artist_name = []\n",
    "        artist_link = []\n",
    "        for artist in artists:\n",
    "            artist_name.append(artist.get_attribute('innerText'))\n",
    "            artist_link.append(artist.get_attribute('href'))\n",
    "\n",
    "        album = song.find_element(by=By.CLASS_NAME, value='bfQ2S9bMXr_kJjqEfcwA').find_element(by=By.TAG_NAME, value='span').find_element(by=By.TAG_NAME, value='a')\n",
    "        album_name = album.get_attribute('innerText')\n",
    "        album_link = album.get_attribute('href')\n",
    "        length = song.find_element(by=By.CLASS_NAME, value='Btg2qHSuepFGBG6X0yEN').get_attribute('innerText')\n",
    "\n",
    "\n",
    "        numbers_list.append(number)\n",
    "        track_images_list.append(track_image)\n",
    "        tracks_list.append(track)\n",
    "        artists_list.append(artist_name)\n",
    "        artists_links_list.append(artist_link)\n",
    "        albums_name.append(album_name)\n",
    "        albums_link.append(album_link)\n",
    "        lengths_list.append(length)\n",
    "\n",
    "        try:\n",
    "            ActionChains(driverinstance).context_click(song).perform()\n",
    "            for times in range(0,8):\n",
    "                ActionChains(driverinstance).send_keys(Keys.ARROW_DOWN).perform()\n",
    "            time.sleep(0.2)\n",
    "            ActionChains(driverinstance).send_keys(Keys.ARROW_RIGHT).send_keys(Keys.RETURN).perform()\n",
    "            time.sleep(0.1)\n",
    "            link = root.clipboard_get()\n",
    "            links_list.append(link)\n",
    "        except:\n",
    "            links_list.append('Null')\n",
    "\n",
    "        time.sleep(0.7) \n",
    "        driverinstance.execute_script(\"arguments[0].scrollBy(0, 35);\", scroll_box)\n",
    "        ActionChains(driverinstance).send_keys(Keys.ARROW_DOWN).perform()\n",
    "        scroll_bar_newLoc = scroll_bar.location['y']\n",
    "        if scroll_bar_newLoc == scroll_bar_location:\n",
    "            break\n",
    "        scroll_bar_location = scroll_bar_newLoc\n",
    "        songsCount+=1\n",
    "    driverinstance.quit()\n",
    "\n",
    "    print('\\tScraping Done!')"
   ]
  },
  {
   "cell_type": "code",
   "execution_count": null,
   "id": "88bbc0b1",
   "metadata": {},
   "outputs": [],
   "source": [
    "main()"
   ]
  },
  {
   "cell_type": "code",
   "execution_count": null,
   "id": "3b3fd750",
   "metadata": {},
   "outputs": [],
   "source": [
    "songs_data = {'Number' : numbers_list, 'Track_Image_Link': track_images_list, 'Track' : tracks_list, \n",
    "                'Artist_name' : artists_list, 'Artist_Link': artists_links_list,\n",
    "                'Album_Name': albums_name, 'Album_link': albums_link, 'Length' : lengths_list, 'Track_link' : links_list}"
   ]
  },
  {
   "cell_type": "code",
   "execution_count": null,
   "id": "52356a43",
   "metadata": {},
   "outputs": [],
   "source": [
    " scrape_df = pd.DataFrame(songs_data)"
   ]
  },
  {
   "cell_type": "code",
   "execution_count": null,
   "id": "19f286d8",
   "metadata": {},
   "outputs": [],
   "source": [
    "display(scrape_df)"
   ]
  },
  {
   "cell_type": "code",
   "execution_count": null,
   "id": "6e822d21",
   "metadata": {},
   "outputs": [],
   "source": [
    "album_df = scrape_df[['Album_Name', 'Album_link']]\n",
    "display(album_df)"
   ]
  },
  {
   "cell_type": "code",
   "execution_count": null,
   "id": "eacc3384",
   "metadata": {},
   "outputs": [],
   "source": [
    "album_df = album_df.drop_duplicates(subset=['Album_Name'])\n",
    "display(album_df)"
   ]
  },
  {
   "cell_type": "code",
   "execution_count": null,
   "id": "cb44ae72",
   "metadata": {},
   "outputs": [],
   "source": [
    "album_df['Album_link'] = album_df['Album_link'].str.replace(r'https://open.spotify.com/album/', '')\n",
    "display(album_df)"
   ]
  },
  {
   "cell_type": "code",
   "execution_count": null,
   "id": "64a2986c",
   "metadata": {},
   "outputs": [],
   "source": [
    "albumid = album_df['Album_link'].tolist()\n",
    "display(albumid)"
   ]
  },
  {
   "cell_type": "markdown",
   "id": "81f93b5f",
   "metadata": {},
   "source": [
    "#### Manual list of top 250 imdb movie soundtracks"
   ]
  },
  {
   "cell_type": "code",
   "execution_count": null,
   "id": "42881917",
   "metadata": {},
   "outputs": [],
   "source": [
    "albumid = ['5ucvCY0hFIAL95DVKohEiB','5CeLOKEJeP3EpEdT9v2lep','63uFfOZpC7jrV7wfuBY2lX','1I3unGxGIIxCQkYPlzzaL8','38x0H9PdY1fHh8EdfPUXqa','2Rosrqy5gnHaKLrh2ctnVq','55RTkgUCP7t80hiTUhATMH','1pDYxCrFTy971V4zaN5Anq','3LP0jc2J6fvhpVTKWzvFUk','7BNrUfFSDHEbj1hi12yjdj','1zIoYLpYOq8d4HFzHJ7vc8','2qvA7HmSg1iM6XMiFF76dp','44TnXcUjTIHPBBROepl99a','11H3JkQiYm6ydXZuDWs4RO','5MfaOJg3VO99QZxvyZC30B','4sEixV6oA46QaNB6PJ12mY','1kdbvP9ZIJTodfu5KOFZHd','53V06VykNk6K6K7yspwCoB','5FaUOOrnP0Gapo9ulAUesS','4IFsIpjTVyPXUlDkbr0mk7','60Ymcp3amHOWlPfPnNeNSI','3B61kSKTxlY36cYgzvf3cP','6Rppm3cesOg9mL5oaIeLCc','55gMu4AvAKCbCaGv3GIXgy','6XvEW217Vz3aergoFkWJDN','0jz1nb6dEh9PvRZr9bs387','766a5fKJYFy9ii4Kz2bQy9','3wzrKpVf1i1ef4HxabBU83','32wOhLTLnq6kis3xkRN2ei','3YA5DdB3wSz4pdfEXoMyRd','0mN9E0N4bRBD7GKktlaRI0','6aLEO03JkGRWsLgiLUYuNI','5HkeUQagfvlrtBRpOg2yXe','1rwMhGTCp0D6CN2XKQjyQt','61pUrUqSnYMZxqhRMhWGuD','7tWIlXAneT3Ebw0Fq4NXL1','20o0lNOWMKNG4mx2JBLwfd','1mLXrA8oEtzeH6D45Zx4Bt','0hvxA5cmM7GmXxYSd3kkK5','2ubcKYeOHGJ5UHHNBAuaKb','6c37nZLIRbHWwBIIv6QI1p','2qwPVMQzybhS2jopA0wMy7','2LhcAFdMWcB49mHSxYrqJT','7eA1RWzxtmV8x4DO1IKHfI','2SJ2LBF9dis5ebPT9MBlB7','6Ltf5m1jvSomNQ0bhfuj5O','6cGPJrv1JowH9FXeW45TtQ','35s58BRTGAEWztPo9WqCIs','11y3Dzg44npGsTWKtmuzTW','55vwcYaWuzfVjbZKt7nW1D','7ztT92dhg9ORPWbjJMsYrv','1LxSrqTGQD9RBrC8Oe1lBv','16bF6lLLeVcBNgYNreGjYZ','7nMexBA71PdwPnfqS5Yji5','47OFnLtLVi5WrPYNXAwFGh','11RrIE8R4WdmybwaItRa97','6r4Vfnoifx2CLiTKCaKji8','2ZHxPDTCRU5STetdmXeW6p','34pB6KguVPen9bERIJD2aW','7EX07sDFRX9g2RRlXJB3dN','4qApTp9557qYZzRLEih4uP','7Jkv05qDgXZynnNaYcxY5W','21BM0AFtpOMPdrcvo66TNK','6JzPRHDXP5soq9zjamRB3f','3y8MjpBVOSPzJLdgUGNIZQ','3tjIKRAPBy5Qu4z8F5HmBz','1gt4PAxdMmq5DUV7tyuNxx','5yOO5ZvqDZx5Sr8jOGtWRR','3mmf6ehQFhmHFVqSvBfSrk','4pFfvZt1riTaIWzkHFfmsF','1xl4tBMHMoCHUmd4l9C9Sf','5KchOX3Bg8MllmJFyCAh0c','1fFwC4gO8FcH8CskScWJQQ','1TbuwdZdsSuvfrL6YKozgU','0E390pSHLm6bJURo1xQ4HV','7uQAcvlo78LYo2jNRKnr7d','3tpJtzZm4Urb0n2ITN5mwF','1kCHru7uhxBUdzkm4gzRQc','6ccQdoDqZsqWlflxEIg0F3','4lPCnKzwONtcGMucK42Tvv','0GLCHyDf1JwJRestHhlc91','5yN2LiMaA7nEXT35GW4hNu','0Su23YyUD0OyafVwOP22HP','0P7vJlKnN94z5p4m3ceTdN','2agAQF2mbwXbuEjWPesKQB','57JDZNjlc0W3oQJjOscraH','0kNc2GeKmIHZK57CJ7YNsn','6HiTc4Cu7pOdO5mA8PInRs','2snB4Gbk61UOCSMiK51SeF','3xK8rPlzF8LDHIIVYsDJUD','5djDvf7OozECsKzEB04uYg','11G6pVrzZFGURnO7zojYA4','1znaXqdsQ9496AGReZcqJ5','4b9fHw4hd1IjmdCwBqlqnZ','7JBLWG747XPJhxuatryC6r','5b5tWFo32wYBLMweeiL8vE','6ae3Z1g2G35RSOFkHL3SBt','4lCAui1nwxoRBksYiiKjxm','2uMsRKnaZ0Iy9wVI4F0X8a','1Cdpyr3pRNtiErT7QRbOxI','4LMSN7t3x1EWxDOQ6Edwii','7JBk7fyUus9naUqMlg625K','5EseiTonajt9YIaxBZMXPS','1yyFmCMeNtuLWsLZAXPStf','1vfxAPvnlWNr5lY9WojHQL','1FpzNqDbugk77xUj0qOrtQ','4qdtZcA89kw5y6NpjS5zC4','2kJpuz9FOqX5riMjGwihhY','5eobMjKVQ5h5vgNhOdQoVS','5mYHOFEuev49xUNaXFmkcF','7Gma34eAAFJ03dAAQMQiiC','1sNK9vLvzIo626GznCEsBN','2fdAkcqAzhesitKe2q91RL','2WQHIddD2BjBBgEgImRuaQ','6KthZEhY4QBJvUSgsSv5Rm','5fqlZFKYqvkIe2jdDGt2nl','1lvieGeY8pifBDIQl9qawM','54be1eA06eNnJeGtwOAlF8','2eEhADd3alWOguMQNwUqtw','5MdxtYNgZJiZMegeZ3Qe1U','2waw92NVzWGzkmjdYbFI6h','2Dn4ABFUYJbrlMF7K12RT3','79HflnwXiQWCrUcJEk06jC','57hqZpNqSCXVy1mgNE8Shg','6NkuCdMz5tGmHbOXAWbtCW','4OBdyiOcPQrCsmyDOWmMPB','2KqLl9eMcIo79Zj5cmHpIq','2GLETs2JWEl74J8LPvECwf','1tkE7mAFHRLwrySs5mQzeN','0Af32Z3u4AiTppyBuUvjYe','3RP0tRQ51HVC57O8q9jCw2','3pxQp1SCC1fUggunoo2Kb5','4e2gSXORtj0AcWMo4EBTtV','6IV7472Hni7A1ENilCManS','7jHwf1s7rFKZern6oM1tXo','4J5DHt8wmA8oq1OB2q8EML','1kTnC045mQqurTQvGMGpmU','7hguux6E8wOGlNsKnZB6Sz','6qUytVWmtw4xh2tjCv39GE','53O8fekDBl0nY2SJNx4mNY','1oB7DuHxiwy0FkPwJ9ay8Q','1n4U9TkpKGcaG47DXCVINp','3u04rTgOYkILUtXzreNszQ','6DbLUGk2j2FG5xbvYi2aZU','2M69PTP6wXWsEcIYOs402E','7Dr08Oi3zxdCzmFulSXSs2','5DAF4VpKZbDIldSf085Nqf','13xlpKbai3GGoMSr75lOeX','6YJkcbbY6GiUGBzgE8AFxr','2FA2QerQZYrG1vFCIwXfTJ','5tpdUdT3kgPHg41J8d4Uot','5Gqln6CvkfVOlDq1ne1usV','6lnhwWrPtqaHso8PvPxhNR','6Lz0xbrOIZKKqxZaOUEXWR','3poSiae7zv8nzgPjYKQrFq','4Qe057XqKloVNhnPohj6Yo','4ERQo3lv0nHNBZtJjW0doY','0LlcFIkHaGELUHO7sRrYBl','0mzJHO9z7mbZaN9JKLHIAk','1KN5Lr40H56umfa1yzmO5R','38TIBMySV88fRQn8J8Y1us','5ZeshDZM1ESVRgD1QLzDGg','29EiOQJnxWlX5nVOWQpu3u','5JRNo1ewWJg5qRe1chBEYX','585bj4hCedsqc4lKCEQKD9']"
   ]
  },
  {
   "cell_type": "code",
   "execution_count": null,
   "id": "68bb1c8d",
   "metadata": {},
   "outputs": [],
   "source": [
    "def get_album(token, albumid):\n",
    "        album_endpoint = f'https://api.spotify.com/v1/albums/{albumid}'\n",
    "\n",
    "        getheader = {\n",
    "            'Authorization': 'Bearer ' + token\n",
    "        }\n",
    "\n",
    "        res = requests.get(album_endpoint, headers=getheader)\n",
    "\n",
    "        album_object = res.json()\n",
    "\n",
    "        return album_object"
   ]
  },
  {
   "cell_type": "code",
   "execution_count": null,
   "id": "4e0dfabf",
   "metadata": {},
   "outputs": [],
   "source": [
    "album_api_info = []\n",
    "for x in albumid:\n",
    "    album_api_info.append(get_album(token, x))"
   ]
  },
  {
   "cell_type": "code",
   "execution_count": null,
   "id": "b1bbb480",
   "metadata": {},
   "outputs": [],
   "source": [
    "i = 0\n",
    "name = []\n",
    "popularity = []\n",
    "release_date = []\n",
    "while i < len(album_api_info):\n",
    "    name.append(album_api_info[i]['name'])\n",
    "    popularity.append(album_api_info[i]['popularity'])\n",
    "    release_date.append(album_api_info[i]['release_date'])\n",
    "    i = i+1"
   ]
  },
  {
   "cell_type": "code",
   "execution_count": null,
   "id": "ae619b49",
   "metadata": {},
   "outputs": [],
   "source": [
    "api_data = {'album_name':name, 'spotify_popularity_rating':popularity, 'album_release_date':release_date}\n",
    "spotify_api_df = pd.DataFrame(api_data)\n",
    "spotify_api_df = spotidy_api_df[spotify_api_df.popularity != 0]\n",
    "display(spotify_api_df)"
   ]
  },
  {
   "cell_type": "code",
   "execution_count": null,
   "id": "d7f6ec94",
   "metadata": {},
   "outputs": [],
   "source": [
    "writer = pd.ExcelWriter('converted-to-excel.xlsx')"
   ]
  },
  {
   "cell_type": "code",
   "execution_count": null,
   "id": "9a122ee8",
   "metadata": {},
   "outputs": [],
   "source": [
    "spotify_api_df.to_excel(writer)"
   ]
  },
  {
   "cell_type": "code",
   "execution_count": null,
   "id": "a88e6e82",
   "metadata": {},
   "outputs": [],
   "source": [
    "writer.save()\n",
    "print(\"DataFrame is exported successfully to 'converted-to-excel.xlsx' Excel File.\")"
   ]
  },
  {
   "cell_type": "code",
   "execution_count": null,
   "id": "50f600c6",
   "metadata": {},
   "outputs": [],
   "source": []
  }
 ],
 "metadata": {
  "kernelspec": {
   "display_name": "Python 3 (ipykernel)",
   "language": "python",
   "name": "python3"
  },
  "language_info": {
   "codemirror_mode": {
    "name": "ipython",
    "version": 3
   },
   "file_extension": ".py",
   "mimetype": "text/x-python",
   "name": "python",
   "nbconvert_exporter": "python",
   "pygments_lexer": "ipython3",
   "version": "3.9.12"
  }
 },
 "nbformat": 4,
 "nbformat_minor": 5
}
