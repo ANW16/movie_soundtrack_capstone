{
 "cells": [
  {
   "cell_type": "code",
   "execution_count": null,
   "id": "3d75db46",
   "metadata": {},
   "outputs": [],
   "source": [
    "import pandas as pd\n",
    "import requests\n",
    "import matplotlib.pyplot as plt\n",
    "import seaborn as sns\n",
    "import numpy as np\n",
    "import json\n",
    "import base64\n",
    "%matplotlib inline"
   ]
  },
  {
   "cell_type": "code",
   "execution_count": null,
   "id": "402ec101",
   "metadata": {},
   "outputs": [],
   "source": [
    "authurl = 'https://accounts.spotify.com/api/token'\n",
    "authheader = {}\n",
    "authdata = {}"
   ]
  },
  {
   "cell_type": "code",
   "execution_count": null,
   "id": "adb17cb2",
   "metadata": {},
   "outputs": [],
   "source": [
    "with open('../keys/client_id.json') as fi:\n",
    "    credentials = json.load(fi)"
   ]
  },
  {
   "cell_type": "code",
   "execution_count": null,
   "id": "9ce92112",
   "metadata": {},
   "outputs": [],
   "source": [
    "client_id = credentials['client_id']"
   ]
  },
  {
   "cell_type": "code",
   "execution_count": null,
   "id": "a5cfca76",
   "metadata": {},
   "outputs": [],
   "source": [
    "with open('../keys/client_secret_id.json') as fi:\n",
    "    secret_credentials = json.load(fi)"
   ]
  },
  {
   "cell_type": "code",
   "execution_count": null,
   "id": "5e9390c5",
   "metadata": {},
   "outputs": [],
   "source": [
    "client_secret_id = secret_credentials['client_secret_id']"
   ]
  },
  {
   "cell_type": "code",
   "execution_count": null,
   "id": "15418b56",
   "metadata": {},
   "outputs": [],
   "source": [
    "def getaccesstoken(client_id, client_sercret_id):\n",
    "    message = f'{client_id}:{client_secret_id}'\n",
    "    message_bytes = message.encode('ascii')\n",
    "    base64_bytes = base64.b64encode(message_bytes)\n",
    "    base64_message = base64_bytes.decode('ascii')\n",
    "    \n",
    "    authheader['Authorization'] = 'Basic ' + base64_message\n",
    "    authdata['grant_type'] = 'client_credentials'\n",
    "    \n",
    "    res = requests.post(authurl, headers = authheader, data = authdata)\n",
    "    \n",
    "    responseobject = res.json()\n",
    "    \n",
    "    access_token = responseobject['access_token']\n",
    "    \n",
    "    return access_token"
   ]
  },
  {
   "cell_type": "code",
   "execution_count": null,
   "id": "adb61b47",
   "metadata": {},
   "outputs": [],
   "source": [
    "token = getaccesstoken(client_id, client_secret_id)"
   ]
  },
  {
   "cell_type": "code",
   "execution_count": null,
   "id": "21cef187",
   "metadata": {},
   "outputs": [],
   "source": [
    "albumid = '1H81jGoWeLI8ufq42GfDPn'"
   ]
  },
  {
   "cell_type": "code",
   "execution_count": null,
   "id": "97c3c07b",
   "metadata": {},
   "outputs": [],
   "source": [
    "def get_album_tracks(token, albumid):\n",
    "    \n",
    "    album_endpoint = f'https://api.spotify.com/v1/albums/{albumid}'\n",
    "    \n",
    "    getheader = {\n",
    "        'Authorization': 'Bearer ' + token\n",
    "    }\n",
    "    \n",
    "    res = requests.get(album_endpoint, headers=getheader)\n",
    "    \n",
    "    album_object = res.json()\n",
    "    \n",
    "    return album_object"
   ]
  },
  {
   "cell_type": "code",
   "execution_count": null,
   "id": "91003eb1",
   "metadata": {},
   "outputs": [],
   "source": [
    "album_list = get_album_tracks(token, albumid)"
   ]
  },
  {
   "cell_type": "code",
   "execution_count": null,
   "id": "40b34d63",
   "metadata": {},
   "outputs": [],
   "source": [
    "print(json.dumps(album_list, indent=2))"
   ]
  },
  {
   "cell_type": "code",
   "execution_count": null,
   "id": "b7b427a7",
   "metadata": {},
   "outputs": [],
   "source": []
  }
 ],
 "metadata": {
  "kernelspec": {
   "display_name": "Python 3 (ipykernel)",
   "language": "python",
   "name": "python3"
  },
  "language_info": {
   "codemirror_mode": {
    "name": "ipython",
    "version": 3
   },
   "file_extension": ".py",
   "mimetype": "text/x-python",
   "name": "python",
   "nbconvert_exporter": "python",
   "pygments_lexer": "ipython3",
   "version": "3.9.12"
  }
 },
 "nbformat": 4,
 "nbformat_minor": 5
}
