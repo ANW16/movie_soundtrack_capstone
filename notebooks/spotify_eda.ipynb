{
 "cells": [
  {
   "cell_type": "code",
   "execution_count": null,
   "id": "3d75db46",
   "metadata": {},
   "outputs": [],
   "source": [
    "import pandas as pd\n",
    "import requests\n",
    "import matplotlib.pyplot as plt\n",
    "import seaborn as sns\n",
    "import numpy as np\n",
    "import json\n",
    "import base64\n",
    "%matplotlib inline"
   ]
  },
  {
   "cell_type": "code",
   "execution_count": null,
   "id": "402ec101",
   "metadata": {},
   "outputs": [],
   "source": [
    "authurl = 'https://accounts.spotify.com/api/token'\n",
    "authheader = {}\n",
    "authdata = {}"
   ]
  },
  {
   "cell_type": "code",
   "execution_count": null,
   "id": "cd156d57",
   "metadata": {},
   "outputs": [],
   "source": [
    "with open('../keys/client_id.json') as fi:\n",
    "    credentials = json.load(fi)"
   ]
  },
  {
   "cell_type": "code",
   "execution_count": null,
   "id": "5619739d",
   "metadata": {},
   "outputs": [],
   "source": [
    "client_id = credentials['client_id']"
   ]
  },
  {
   "cell_type": "code",
   "execution_count": null,
   "id": "878f66c0",
   "metadata": {},
   "outputs": [],
   "source": [
    "with open('../keys/client_secret_id.json') as fi:\n",
    "    secret_credentials = json.load(fi)"
   ]
  },
  {
   "cell_type": "code",
   "execution_count": null,
   "id": "60250076",
   "metadata": {},
   "outputs": [],
   "source": [
    "client_secret_id = secret_credentials['client_secret_id']"
   ]
  },
  {
   "cell_type": "code",
   "execution_count": null,
   "id": "84ca95bc",
   "metadata": {},
   "outputs": [],
   "source": [
    "message = f'{client_id}:{client_secret_id}'\n",
    "message_bytes = message.encode('ascii')\n",
    "base64_bytes = base64.b64encode(message_bytes)\n",
    "base64_message = base64_bytes.decode('ascii')"
   ]
  },
  {
   "cell_type": "code",
   "execution_count": null,
   "id": "6211c4e1",
   "metadata": {},
   "outputs": [],
   "source": []
  }
 ],
 "metadata": {
  "kernelspec": {
   "display_name": "Python 3 (ipykernel)",
   "language": "python",
   "name": "python3"
  },
  "language_info": {
   "codemirror_mode": {
    "name": "ipython",
    "version": 3
   },
   "file_extension": ".py",
   "mimetype": "text/x-python",
   "name": "python",
   "nbconvert_exporter": "python",
   "pygments_lexer": "ipython3",
   "version": "3.9.12"
  }
 },
 "nbformat": 4,
 "nbformat_minor": 5
}
