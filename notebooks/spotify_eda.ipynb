{
 "cells": [
  {
   "cell_type": "code",
   "execution_count": null,
   "id": "3d75db46",
   "metadata": {},
   "outputs": [],
   "source": [
    "import pandas as pd\n",
    "import requests\n",
    "import matplotlib.pyplot as plt\n",
    "import seaborn as sns\n",
    "import numpy as np\n",
    "import json\n",
    "import base64\n",
    "%matplotlib inline"
   ]
  },
  {
   "cell_type": "code",
   "execution_count": null,
   "id": "402ec101",
   "metadata": {},
   "outputs": [],
   "source": [
    "authurl = 'https://accounts.spotify.com/api/token'\n",
    "authheader = {}\n",
    "authdata = {}"
   ]
  },
  {
   "cell_type": "code",
   "execution_count": null,
   "id": "3babc3a1",
   "metadata": {},
   "outputs": [],
   "source": [
    "with open('../keys/client_id.json') as fi:\n",
    "    credentials = json.load(fi)"
   ]
  },
  {
   "cell_type": "code",
   "execution_count": null,
   "id": "5681d945",
   "metadata": {},
   "outputs": [],
   "source": [
    "client_id = credentials['client_id']"
   ]
  },
  {
   "cell_type": "code",
   "execution_count": null,
   "id": "3c65a175",
   "metadata": {},
   "outputs": [],
   "source": [
    "with open('../keys/client_secret_id.json') as fi:\n",
    "    secret_credentials = json.load(fi)"
   ]
  },
  {
   "cell_type": "code",
   "execution_count": null,
   "id": "20ed2f84",
   "metadata": {},
   "outputs": [],
   "source": [
    "client_secret_id = secret_credentials['client_secret_id']"
   ]
  },
  {
   "cell_type": "code",
   "execution_count": null,
   "id": "ece6df67",
   "metadata": {},
   "outputs": [],
   "source": [
    "message = f'{client_id}:{client_secret_id}'\n",
    "message_bytes = message.encode('ascii')\n",
    "base64_bytes = base64.b64encode(message_bytes)\n",
    "base64_message = base64_bytes.decode('ascii')"
   ]
  },
  {
   "cell_type": "code",
   "execution_count": null,
   "id": "641f95e0",
   "metadata": {},
   "outputs": [],
   "source": [
    "authheader['Authorization'] = 'Basic ' + base64_message\n",
    "authdata['grant_type'] = 'client_credentials'\n",
    "res = requests.post(authurl, headers = authheader, data = authdata)"
   ]
  },
  {
   "cell_type": "code",
   "execution_count": null,
   "id": "890b6000",
   "metadata": {},
   "outputs": [],
   "source": [
    "print(res)"
   ]
  },
  {
   "cell_type": "code",
   "execution_count": null,
   "id": "4cb89fb2",
   "metadata": {},
   "outputs": [],
   "source": [
    "responseobject = res.json()"
   ]
  },
  {
   "cell_type": "code",
   "execution_count": null,
   "id": "b709753b",
   "metadata": {},
   "outputs": [],
   "source": [
    "print(json.dumps(responseobject, indent=2))"
   ]
  },
  {
   "cell_type": "code",
   "execution_count": null,
   "id": "9b1de5e1",
   "metadata": {},
   "outputs": [],
   "source": [
    "access_token = responseobject['access_token']"
   ]
  },
  {
   "cell_type": "code",
   "execution_count": null,
   "id": "a8db0574",
   "metadata": {},
   "outputs": [],
   "source": [
    "albumid = '02GEKxoVe5ITAj68mZRAM7'"
   ]
  },
  {
   "cell_type": "code",
   "execution_count": null,
   "id": "862b5afa",
   "metadata": {},
   "outputs": [],
   "source": [
    "def get_album_tracks(access_token, albumid):\n",
    "    album_endpoint = f'https://accounts.spotify.com/v1/albums/{albumid}'\n",
    "    getheader = {\n",
    "        'Authorization':'bearer ' + access_token\n",
    "    }\n",
    "    res = requests.get(album_endpoint, headers=getheader)\n",
    "    album_object = res.json()\n",
    "    \n",
    "    return album_object"
   ]
  },
  {
   "cell_type": "code",
   "execution_count": null,
   "id": "85172eff",
   "metadata": {},
   "outputs": [],
   "source": []
  },
  {
   "cell_type": "code",
   "execution_count": null,
   "id": "9b6781f0",
   "metadata": {},
   "outputs": [],
   "source": [
    "print(json.dumps(test, indent=2))"
   ]
  },
  {
   "cell_type": "code",
   "execution_count": null,
   "id": "34df9f74",
   "metadata": {},
   "outputs": [],
   "source": []
  }
 ],
 "metadata": {
  "kernelspec": {
   "display_name": "Python 3 (ipykernel)",
   "language": "python",
   "name": "python3"
  },
  "language_info": {
   "codemirror_mode": {
    "name": "ipython",
    "version": 3
   },
   "file_extension": ".py",
   "mimetype": "text/x-python",
   "name": "python",
   "nbconvert_exporter": "python",
   "pygments_lexer": "ipython3",
   "version": "3.9.12"
  }
 },
 "nbformat": 4,
 "nbformat_minor": 5
}
