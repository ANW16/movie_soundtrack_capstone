{
 "cells": [
  {
   "cell_type": "code",
   "execution_count": null,
   "id": "3d75db46",
   "metadata": {},
   "outputs": [],
   "source": [
    "import pandas as pd\n",
    "import requests\n",
    "import matplotlib.pyplot as plt\n",
    "import seaborn as sns\n",
    "import numpy as np\n",
    "import json\n",
    "import base64\n",
    "from bs4 import BeautifulSoup as bs\n",
    "! pip3 install selenium\n",
    "from selenium import webdriver\n",
    "from selenium.webdriver.common.by import By\n",
    "from selenium.webdriver.common.keys import Keys\n",
    "from selenium.webdriver import ActionChains\n",
    "from selenium.webdriver.chrome.service import Service\n",
    "from selenium.webdriver.chrome.options import Options\n",
    "import time\n",
    "import tkinter as tk\n",
    "%matplotlib inline"
   ]
  },
  {
   "cell_type": "markdown",
   "id": "173b43a2",
   "metadata": {},
   "source": [
    "### API Authorization:"
   ]
  },
  {
   "cell_type": "code",
   "execution_count": null,
   "id": "402ec101",
   "metadata": {},
   "outputs": [],
   "source": [
    "authurl = 'https://accounts.spotify.com/api/token'\n",
    "authheader = {}\n",
    "authdata = {}"
   ]
  },
  {
   "cell_type": "code",
   "execution_count": null,
   "id": "d1a772c9",
   "metadata": {},
   "outputs": [],
   "source": [
    "with open('../keys/client_id.json') as fi:\n",
    "    credentials = json.load(fi)"
   ]
  },
  {
   "cell_type": "code",
   "execution_count": null,
   "id": "b4e5eb9c",
   "metadata": {},
   "outputs": [],
   "source": [
    "client_id = credentials['client_id']"
   ]
  },
  {
   "cell_type": "code",
   "execution_count": null,
   "id": "c1ede5cd",
   "metadata": {},
   "outputs": [],
   "source": [
    "with open('../keys/client_secret_id.json') as fi:\n",
    "    secret_credentials = json.load(fi)"
   ]
  },
  {
   "cell_type": "code",
   "execution_count": null,
   "id": "1cb13f97",
   "metadata": {},
   "outputs": [],
   "source": [
    "client_secret_id = secret_credentials['client_secret_id']"
   ]
  },
  {
   "cell_type": "code",
   "execution_count": null,
   "id": "1e271cb8",
   "metadata": {},
   "outputs": [],
   "source": [
    "def getaccesstoken(client_id, client_sercret_id):\n",
    "    message = f'{client_id}:{client_secret_id}'\n",
    "    message_bytes = message.encode('ascii')\n",
    "    base64_bytes = base64.b64encode(message_bytes)\n",
    "    base64_message = base64_bytes.decode('ascii')\n",
    "    \n",
    "    authheader['Authorization'] = 'Basic ' + base64_message\n",
    "    authdata['grant_type'] = 'client_credentials'\n",
    "    \n",
    "    res = requests.post(authurl, headers = authheader, data = authdata)\n",
    "    \n",
    "    responseobject = res.json()\n",
    "    \n",
    "    access_token = responseobject['access_token']\n",
    "    \n",
    "    return access_token"
   ]
  },
  {
   "cell_type": "code",
   "execution_count": null,
   "id": "877e00a3",
   "metadata": {},
   "outputs": [],
   "source": [
    "token = getaccesstoken(client_id, client_secret_id)"
   ]
  },
  {
   "cell_type": "markdown",
   "id": "cc01bca3",
   "metadata": {},
   "source": [
    "### Scraping for album ids"
   ]
  },
  {
   "cell_type": "code",
   "execution_count": null,
   "id": "d8276586",
   "metadata": {},
   "outputs": [],
   "source": [
    "URL = 'https://open.spotify.com/search/Original%20Motion%20Picture%20Soundtrack/tracks'\n",
    "response = requests.get(URL)"
   ]
  },
  {
   "cell_type": "code",
   "execution_count": null,
   "id": "8c045ce5",
   "metadata": {},
   "outputs": [],
   "source": [
    "type(response)"
   ]
  },
  {
   "cell_type": "code",
   "execution_count": null,
   "id": "6d157f93",
   "metadata": {},
   "outputs": [],
   "source": [
    "soup = bs(response.text)"
   ]
  },
  {
   "cell_type": "code",
   "execution_count": null,
   "id": "a41b19e4",
   "metadata": {},
   "outputs": [],
   "source": [
    "response.status_code"
   ]
  },
  {
   "cell_type": "code",
   "execution_count": null,
   "id": "b9ed9166",
   "metadata": {},
   "outputs": [],
   "source": [
    "numbers_list = []\n",
    "track_images_list = []\n",
    "tracks_list = []\n",
    "artists_list = []\n",
    "artists_links_list = []\n",
    "albums_name = []\n",
    "albums_link = []\n",
    "lengths_list = []\n",
    "links_list = []"
   ]
  },
  {
   "cell_type": "code",
   "execution_count": null,
   "id": "a6c24b73",
   "metadata": {},
   "outputs": [],
   "source": [
    "with open('../keys/spotify_login.json') as fi:\n",
    "    spotify_login = json.load(fi)"
   ]
  },
  {
   "cell_type": "code",
   "execution_count": null,
   "id": "a93fd15b",
   "metadata": {},
   "outputs": [],
   "source": [
    "spotify_username = spotify_login['spotify_username']\n",
    "spotify_password = spotify_login['spotify_password']"
   ]
  },
  {
   "cell_type": "code",
   "execution_count": null,
   "id": "2bef7234",
   "metadata": {},
   "outputs": [],
   "source": [
    "email = spotify_username\n",
    "password = spotify_password\n",
    "\n",
    "\n",
    "class DriverOptions(object):\n",
    "\n",
    "    def __init__(self):\n",
    "\n",
    "        self.options = Options()\n",
    "        self.options.add_argument('--no-sandbox')\n",
    "        self.options.add_argument('--start-maximized')\n",
    "        self.options.add_argument('--log-level=3')\n",
    "        self.options.add_experimental_option('excludeSwitches', ['enable-logging'])\n",
    "        self.options.add_experimental_option(\"excludeSwitches\", [\"enable-automation\"])\n",
    "        prefs = {\"credentials_enable_service\": False,\n",
    "        \"profile.password_manager_enabled\": False}\n",
    "        self.options.add_experimental_option(\"prefs\", prefs)\n",
    "        self.options.add_argument(\"disable-infobars\")\n",
    "\n",
    "\n",
    "class WebDriver(DriverOptions):\n",
    "\n",
    "    def __init__(self, path=''):\n",
    "        DriverOptions.__init__(self)\n",
    "        self.driver_instance = self.get_driver()\n",
    "\n",
    "    def get_driver(self):\n",
    "        webdriver.DesiredCapabilities.CHROME['acceptSslCerts'] = True\n",
    "\n",
    "        path = 'chromedriver.exe'\n",
    "        s=Service(path)\n",
    "        driver = webdriver.Chrome(service=s, options=self.options)\n",
    "        driver.execute_script(\"Object.defineProperty(navigator, 'webdriver', {get: () => undefined})\")\n",
    "        driver.execute_cdp_cmd(\"Page.addScriptToEvaluateOnNewDocument\", {\n",
    "            \"source\":\n",
    "                \"const newProto = navigator.__proto__;\"\n",
    "                \"delete newProto.webdriver;\"\n",
    "                \"navigator.__proto__ = newProto;\"\n",
    "        })\n",
    "        return driver\n",
    "\n",
    "def main():\n",
    "   \n",
    "    songCountLimit = int(input(\"How many songs would you like to scrap?: \"))\n",
    "\n",
    "    driver= WebDriver()\n",
    "    driverinstance = driver.driver_instance\n",
    "    root = tk.Tk()\n",
    "    root.withdraw() \n",
    "    \n",
    "    driverinstance.get('https://accounts.spotify.com/en/login')\n",
    "    time.sleep(0.5)\n",
    "\n",
    "    user_name_entry = driverinstance.find_element(by=By.ID, value=\"login-username\")\n",
    "    password_entry = driverinstance.find_element(by=By.ID, value=\"login-password\")\n",
    "    login_btn = driverinstance.find_element(by=By.ID, value=\"login-button\")\n",
    "\n",
    "    user_name_entry.send_keys(email)\n",
    "    password_entry.send_keys(password)\n",
    "    login_btn.click()\n",
    "    time.sleep(8)\n",
    "\n",
    "    search_url = 'https://open.spotify.com/search/Original%20Motion%20Picture%20Soundtrack/tracks'\n",
    "    driverinstance.get(search_url)\n",
    "    time.sleep(10)\n",
    "\n",
    "    scroll_box = driverinstance.find_element(By.XPATH, value=\"/html/body/div[4]/div/div[2]/div[3]/div[1]/div[2]/div[2]/div\")\n",
    "    time.sleep(2)\n",
    "\n",
    "    songs_list = scroll_box.find_element(by=By.XPATH, value='/html/body/div[4]/div/div[2]/div[3]/div[1]/div[2]/div[2]/div/div/div[2]/main')\n",
    "    first_song = songs_list.find_element(by=By.CLASS_NAME, value='h4HgbO_Uu1JYg5UGANeQ')\n",
    "\n",
    "    ActionChains(driverinstance).click(first_song).perform()\n",
    "\n",
    "    scroll_bar = driverinstance.find_element(By.XPATH, '/html/body/div[4]/div/div[2]/div[3]/div[1]/div[2]/div[4]/div/div')\n",
    "    scroll_bar_location = scroll_bar.location['y']\n",
    "\n",
    "    songsCount = 0\n",
    "    print('\\tScraping in Progress...')\n",
    "    \n",
    "    while songsCount < songCountLimit:\n",
    "\n",
    "        active_elm = driverinstance.switch_to.active_element\n",
    "        grand_parent = active_elm.find_element(By.XPATH, \"../..\")\n",
    "        song = grand_parent.find_element(By.XPATH, \"./..\")\n",
    "\n",
    "        number = song.find_element(by=By.CLASS_NAME, value='VrRwdIZO0sRX1lsWxJBe').get_attribute('innerText')\n",
    "        track_image = song.find_element(by=By.CLASS_NAME, value='gvLrgQXBFVW6m9MscfFA').find_element(By.TAG_NAME, 'img').get_attribute('src')\n",
    "        track = song.find_element(by=By.CLASS_NAME, value='t_yrXoUO3qGsJS4Y6iXX').get_attribute('innerText')\n",
    "        artists = song.find_element(by=By.CLASS_NAME, value='rq2VQ5mb9SDAFWbBIUIn').find_elements(By.TAG_NAME, 'a')\n",
    "        artist_name = []\n",
    "        artist_link = []\n",
    "        for artist in artists:\n",
    "            artist_name.append(artist.get_attribute('innerText'))\n",
    "            artist_link.append(artist.get_attribute('href'))\n",
    "\n",
    "        album = song.find_element(by=By.CLASS_NAME, value='bfQ2S9bMXr_kJjqEfcwA').find_element(by=By.TAG_NAME, value='span').find_element(by=By.TAG_NAME, value='a')\n",
    "        album_name = album.get_attribute('innerText')\n",
    "        album_link = album.get_attribute('href')\n",
    "        length = song.find_element(by=By.CLASS_NAME, value='Btg2qHSuepFGBG6X0yEN').get_attribute('innerText')\n",
    "\n",
    "\n",
    "        numbers_list.append(number)\n",
    "        track_images_list.append(track_image)\n",
    "        tracks_list.append(track)\n",
    "        artists_list.append(artist_name)\n",
    "        artists_links_list.append(artist_link)\n",
    "        albums_name.append(album_name)\n",
    "        albums_link.append(album_link)\n",
    "        lengths_list.append(length)\n",
    "\n",
    "        try:\n",
    "            ActionChains(driverinstance).context_click(song).perform()\n",
    "            for times in range(0,8):\n",
    "                ActionChains(driverinstance).send_keys(Keys.ARROW_DOWN).perform()\n",
    "            time.sleep(0.2)\n",
    "            ActionChains(driverinstance).send_keys(Keys.ARROW_RIGHT).send_keys(Keys.RETURN).perform()\n",
    "            time.sleep(0.1)\n",
    "            link = root.clipboard_get()\n",
    "            links_list.append(link)\n",
    "        except:\n",
    "            links_list.append('Null')\n",
    "\n",
    "        time.sleep(0.7) \n",
    "        driverinstance.execute_script(\"arguments[0].scrollBy(0, 35);\", scroll_box)\n",
    "        ActionChains(driverinstance).send_keys(Keys.ARROW_DOWN).perform()\n",
    "        scroll_bar_newLoc = scroll_bar.location['y']\n",
    "        if scroll_bar_newLoc == scroll_bar_location:\n",
    "            break\n",
    "        scroll_bar_location = scroll_bar_newLoc\n",
    "        songsCount+=1\n",
    "    driverinstance.quit()\n",
    "\n",
    "    print('\\tScraping Done!')"
   ]
  },
  {
   "cell_type": "code",
   "execution_count": null,
   "id": "88bbc0b1",
   "metadata": {},
   "outputs": [],
   "source": [
    "main()"
   ]
  },
  {
   "cell_type": "code",
   "execution_count": null,
   "id": "3b3fd750",
   "metadata": {},
   "outputs": [],
   "source": [
    "songs_data = {'Number' : numbers_list, 'Track_Image_Link': track_images_list, 'Track' : tracks_list, \n",
    "                'Artist_name' : artists_list, 'Artist_Link': artists_links_list,\n",
    "                'Album_Name': albums_name, 'Album_link': albums_link, 'Length' : lengths_list, 'Track_link' : links_list}"
   ]
  },
  {
   "cell_type": "code",
   "execution_count": null,
   "id": "52356a43",
   "metadata": {},
   "outputs": [],
   "source": [
    " scrape_df = pd.DataFrame(songs_data)"
   ]
  },
  {
   "cell_type": "code",
   "execution_count": null,
   "id": "19f286d8",
   "metadata": {},
   "outputs": [],
   "source": [
    "display(scrape_df)"
   ]
  },
  {
   "cell_type": "code",
   "execution_count": null,
   "id": "6e822d21",
   "metadata": {},
   "outputs": [],
   "source": [
    "album_df = scrape_df[['Album_Name', 'Album_link']]\n",
    "display(album_df)"
   ]
  },
  {
   "cell_type": "code",
   "execution_count": null,
   "id": "eacc3384",
   "metadata": {},
   "outputs": [],
   "source": [
    "album_df = album_df.drop_duplicates(subset=['Album_Name'])\n",
    "display(album_df)"
   ]
  },
  {
   "cell_type": "code",
   "execution_count": null,
   "id": "cb44ae72",
   "metadata": {},
   "outputs": [],
   "source": [
    "album_df['Album_link'] = album_df['Album_link'].str.replace(r'https://open.spotify.com/album/', '')\n",
    "display(album_df)"
   ]
  },
  {
   "cell_type": "code",
   "execution_count": null,
   "id": "64a2986c",
   "metadata": {},
   "outputs": [],
   "source": [
    "albumid = album_df['Album_link'].tolist()\n",
    "display(albumid)"
   ]
  },
  {
   "cell_type": "code",
   "execution_count": null,
   "id": "68bb1c8d",
   "metadata": {},
   "outputs": [],
   "source": [
    "def get_album(token, albumid):\n",
    "        album_endpoint = f'https://api.spotify.com/v1/albums/{albumid}'\n",
    "\n",
    "        getheader = {\n",
    "            'Authorization': 'Bearer ' + token\n",
    "        }\n",
    "\n",
    "        res = requests.get(album_endpoint, headers=getheader)\n",
    "\n",
    "        album_object = res.json()\n",
    "\n",
    "        return album_object"
   ]
  },
  {
   "cell_type": "code",
   "execution_count": null,
   "id": "4e0dfabf",
   "metadata": {},
   "outputs": [],
   "source": [
    "album_api_info = []\n",
    "for x in albumid:\n",
    "    album_api_info.append(get_album(token, x))"
   ]
  },
  {
   "cell_type": "code",
   "execution_count": null,
   "id": "b1bbb480",
   "metadata": {},
   "outputs": [],
   "source": [
    "i = 0\n",
    "name = []\n",
    "popularity = []\n",
    "release_date = []\n",
    "while i < len(album_api_info):\n",
    "    name.append(album_api_info[i]['name'])\n",
    "    popularity.append(album_api_info[i]['popularity'])\n",
    "    release_date.append(album_api_info[i]['release_date'])\n",
    "    i = i+1"
   ]
  },
  {
   "cell_type": "code",
   "execution_count": null,
   "id": "ae619b49",
   "metadata": {},
   "outputs": [],
   "source": [
    "api_data = {'album_name':name, 'spotify_popularity_rating':popularity, 'album_release_date':release_date}\n",
    "spotify_api_df = pd.DataFrame(api_data)\n",
    "spotify_api_df = spotidy_api_df[spotify_api_df.popularity != 0]\n",
    "display(spotify_api_df)"
   ]
  },
  {
   "cell_type": "code",
   "execution_count": null,
   "id": "d7f6ec94",
   "metadata": {},
   "outputs": [],
   "source": [
    "writer = pd.ExcelWriter('converted-to-excel.xlsx')"
   ]
  },
  {
   "cell_type": "code",
   "execution_count": null,
   "id": "9a122ee8",
   "metadata": {},
   "outputs": [],
   "source": [
    "spotify_api_df.to_excel(writer)"
   ]
  },
  {
   "cell_type": "code",
   "execution_count": null,
   "id": "a88e6e82",
   "metadata": {},
   "outputs": [],
   "source": [
    "writer.save()\n",
    "print(\"DataFrame is exported successfully to 'converted-to-excel.xlsx' Excel File.\")"
   ]
  },
  {
   "cell_type": "code",
   "execution_count": null,
   "id": "50f600c6",
   "metadata": {},
   "outputs": [],
   "source": []
  }
 ],
 "metadata": {
  "kernelspec": {
   "display_name": "Python 3 (ipykernel)",
   "language": "python",
   "name": "python3"
  },
  "language_info": {
   "codemirror_mode": {
    "name": "ipython",
    "version": 3
   },
   "file_extension": ".py",
   "mimetype": "text/x-python",
   "name": "python",
   "nbconvert_exporter": "python",
   "pygments_lexer": "ipython3",
   "version": "3.9.12"
  }
 },
 "nbformat": 4,
 "nbformat_minor": 5
}
